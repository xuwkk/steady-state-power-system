{
 "cells": [
  {
   "cell_type": "markdown",
   "metadata": {},
   "source": [
    "# Simulation on Power System State Estimation and FDI Attacks"
   ]
  },
  {
   "cell_type": "code",
   "execution_count": null,
   "metadata": {},
   "outputs": [],
   "source": [
    "# Import packages\n",
    "from pypower.api import *\n",
    "from configs.config_mea_idx import define_mea_idx_noise\n",
    "from configs.config import se_config, opt\n",
    "from utils.class_se import SE\n",
    "from utils.fdi_att import FDI\n",
    "import numpy as np\n",
    "import matplotlib.pyplot as plt\n",
    "import random"
   ]
  },
  {
   "cell_type": "markdown",
   "metadata": {},
   "source": [
    "## Test Load Generation"
   ]
  },
  {
   "cell_type": "code",
   "execution_count": null,
   "metadata": {},
   "outputs": [],
   "source": [
    "from utils.gen_data import gen_case, gen_load\n",
    "from pypower.api import case14, runopf\n",
    "from pypower.idx_bus import PD, QD\n",
    "from pypower.idx_brch import RATE_A\n",
    "\n",
    "case = case14()\n",
    "case_mod = gen_case(case, 'case14')\n",
    "\n",
    "print(f'The active load: {case_mod[\"bus\"][:,PD]}')\n",
    "print(f'The active power flow constraints: {case_mod[\"branch\"][:,RATE_A]}')\n",
    "print(f'The genenerator cost: {case_mod[\"gencost\"][:,[3,4]]}')\n",
    "\n",
    "# Test opf\n",
    "result = runopf(case_mod, opt)"
   ]
  },
  {
   "cell_type": "code",
   "execution_count": null,
   "metadata": {},
   "outputs": [],
   "source": [
    "\"\"\"\n",
    "Test the data generation\n",
    "\"\"\"\n",
    "\n",
    "load_active, load_reactive = gen_load(case_mod, 'case14')\n",
    "load_active.shape"
   ]
  },
  {
   "cell_type": "code",
   "execution_count": null,
   "metadata": {},
   "outputs": [],
   "source": [
    "# Visualize the load condition\n",
    "fig, (ax1, ax2) = plt.subplots(1,2, figsize = (20,5))\n",
    "ax1.plot(load_active[:,1])\n",
    "ax2.plot(load_active[:,2])"
   ]
  },
  {
   "cell_type": "markdown",
   "metadata": {},
   "source": [
    "## Power System State Estimation (PSSE)\n",
    "We consider different types and amount of measurements in the AC-PSSE. In the first case study, the entire measurement from both RTUs and PMUs are considered which includes.\n",
    "1. \"From\" side active power flow: pf;\n",
    "2. \"To\" side active power flow: pt;\n",
    "3. Active power injection: pi;\n",
    "4. Voltage angle: vang;\n",
    "5. \"From\" side reactive power flow: qf;\n",
    "6. \"To\" side reactive power flow: qt;\n",
    "7. Reactive power injection: qi;\n",
    "8. Voltage magnitude: vmag;\n",
    "\n",
    "In this case, we set the FPR of BDD as 0.02, e.g. ~2% of the normal measurement can be detected as suspicious.\n",
    "\n",
    "Firstly, let's do the state estimation with Jacobian updated (Honest State Estimation). We also print the jacobian change against the flat start."
   ]
  },
  {
   "cell_type": "code",
   "execution_count": null,
   "metadata": {},
   "outputs": [],
   "source": [
    "# Determine the measurement, here we can the default \"full\" setting\n",
    "mea_idx, no_mea, noise_sigma = define_mea_idx_noise(case, 'FULL')\n",
    "\n",
    "# Instance the state estimation Class SE\n",
    "se = SE(case_mod, noise_sigma=noise_sigma, idx=mea_idx, fpr = 0.02)\n",
    "\n",
    "# Run opf to get the measurement\n",
    "result = se.run_opf()\n",
    "\n",
    "# Construct the measurement\n",
    "z, z_noise, vang_ref, vmag_ref = se.construct_mea(result) # Get the measurement\n",
    "\n",
    "# Run AC-SE\n",
    "se_config['verbose'] = 1  # Default is 0\n",
    "v_est = se.ac_se_pypower(z_noise, vang_ref, vmag_ref, config = se_config)\n",
    "\n",
    "# BDD detection\n",
    "residual = se.bdd_residual(z_noise, v_est)\n",
    "print(f'BDD threshold: {se.bdd_threshold}')\n",
    "print(f'residual: {residual}')"
   ]
  },
  {
   "cell_type": "markdown",
   "metadata": {},
   "source": [
    "We can see that the Jacobian variation is not large. \n",
    "\n",
    "We can even run more state estimations to see the residual distributions. Note that we only run under the same load condition (Note: it may take a while for different test size.)"
   ]
  },
  {
   "cell_type": "code",
   "execution_count": null,
   "metadata": {},
   "outputs": [],
   "source": [
    "r_summary = []\n",
    "for _ in range(1000):\n",
    "    # Generate different noisy measurement\n",
    "    z, z_noise, vang_ref, vmag_ref = se.construct_mea(result)\n",
    "    # State estimation\n",
    "    v_est = se.ac_se_pypower(z_noise, vang_ref, vmag_ref)\n",
    "    # Residual\n",
    "    residual = se.bdd_residual(z_noise, v_est)\n",
    "    r_summary.append(residual)\n",
    "\n",
    "fp_no = 0\n",
    "for residual in r_summary:\n",
    "    if residual >= se.bdd_threshold:\n",
    "        fp_no += 1\n",
    "\n",
    "fpr = fp_no/len(r_summary)\n",
    "print(f'The false positive rate: {fpr}')   # close to fpr = 0.02\n",
    "ax = plt.figure()\n",
    "plt.hist(r_summary, cumulative=True, density=True, bins=50)\n",
    "plt.vlines(ymin=0, ymax=1, x=se.bdd_threshold, colors='red')\n",
    "plt.xlabel('Residual')\n",
    "plt.ylabel('c.d.f.')\n",
    "plt.title('The cdf of residual distribution')\n",
    "plt.hlines(xmin=np.min(r_summary),xmax=np.max(r_summary), y=0.98, colors='red')\n",
    "plt.show()"
   ]
  },
  {
   "cell_type": "markdown",
   "metadata": {},
   "source": [
    "We can then repeat the procedure by Dishonest update where the Jacobian is unchanged as the flat start through the iteation"
   ]
  },
  {
   "cell_type": "code",
   "execution_count": null,
   "metadata": {},
   "outputs": [],
   "source": [
    "# Generate a basic case\n",
    "case = case14()\n",
    "# Determine the measurement, here we can the default \"full\" setting\n",
    "mea_idx, no_mea, noise_sigma = define_mea_idx_noise(case, 'FULL')\n",
    "\n",
    "# Instance the state estimation Class SE\n",
    "se = SE(case, noise_sigma=noise_sigma, idx=mea_idx, fpr = 0.02)\n",
    "\n",
    "# Run opf to get the measurement\n",
    "result = se.run_opf()\n",
    "\n",
    "# Construct the measurement\n",
    "z, z_noise, vang_ref, vmag_ref = se.construct_mea(result) # Get the measurement\n",
    "\n",
    "# Run AC-SE\n",
    "se_config['verbose'] = 1       # Default is 0\n",
    "v_est = se.ac_se_pypower(z_noise, vang_ref, vmag_ref, is_honest=False, config = se_config)\n",
    "\n",
    "# BDD detection\n",
    "residual = se.bdd_residual(z_noise, v_est)\n",
    "print(f'BDD threshold: {se.bdd_threshold}')\n",
    "print(f'residual: {residual}')"
   ]
  },
  {
   "cell_type": "markdown",
   "metadata": {},
   "source": [
    "We then test the state estimation based on different measurement from various opf runs."
   ]
  },
  {
   "cell_type": "code",
   "execution_count": null,
   "metadata": {},
   "outputs": [],
   "source": [
    "from tqdm import tqdm\n",
    "r_summary = []\n",
    "for i in tqdm(range(0,2000,5)):\n",
    "    # Get the load\n",
    "    pd = load_active[i,:]\n",
    "    qd = load_reactive[i,:]\n",
    "    # Run opf\n",
    "    result = se.run_opf(active_load = pd, reactive_load = qd)\n",
    "    # print(result['success'])\n",
    "    # Generate different noisy measurement\n",
    "    z, z_noise, vang_ref, vmag_ref = se.construct_mea(result)\n",
    "    # State estimation\n",
    "    se_config['verbose'] = 0\n",
    "    se_config['is_honest'] = False\n",
    "    v_est = se.ac_se_pypower(z_noise, vang_ref, vmag_ref, config = se_config)\n",
    "    # Residual\n",
    "    residual = se.bdd_residual(z_noise, v_est)\n",
    "    r_summary.append(residual)\n",
    "\n",
    "fp_no = 0\n",
    "for residual in r_summary:\n",
    "    if residual >= se.bdd_threshold:\n",
    "        fp_no += 1\n",
    "\n",
    "fpr = fp_no/len(r_summary)\n",
    "print(f'The false positive rate: {fpr}')   # close to fpr = 0.02\n",
    "ax = plt.figure()\n",
    "plt.hist(r_summary, cumulative=True, density=True, bins=50)\n",
    "plt.vlines(ymin=0, ymax=1, x=se.bdd_threshold, colors='red')\n",
    "plt.xlabel('Residual')\n",
    "plt.ylabel('c.d.f.')\n",
    "plt.title('The cdf of residual distribution')\n",
    "plt.hlines(xmin=np.min(r_summary),xmax=np.max(r_summary), y=0.98, colors='red')\n",
    "plt.show()"
   ]
  },
  {
   "cell_type": "markdown",
   "metadata": {},
   "source": [
    "We can see that the two methods does not vary a lot. The Dishonest state estimation can still give a similar FPR."
   ]
  },
  {
   "cell_type": "markdown",
   "metadata": {},
   "source": [
    "## False Data Injection (FDI)"
   ]
  },
  {
   "cell_type": "markdown",
   "metadata": {},
   "source": [
    "### Attack on single phase angle"
   ]
  },
  {
   "cell_type": "code",
   "execution_count": null,
   "metadata": {},
   "outputs": [],
   "source": [
    "# Instance the Class FDI\n",
    "fdi = FDI(case_mod, noise_sigma, mea_idx, 0.02)\n",
    "# Specify the attack type\n",
    "att_spec = {}\n",
    "print(f'The pv and pq bus include {fdi.non_ref_index}')\n",
    "\n",
    "# Define the attack specification file\n",
    "att_spec['ang_posi'] = random.sample(fdi.non_ref_index, 1)\n",
    "att_spec['ang_str'] = 0.2\n",
    "att_spec['mag_posi'] = []\n",
    "att_spec['mag_str'] = 0\n",
    "\n",
    "# Do state estimation\n",
    "v_est = fdi.ac_se_pypower(z_noise, vang_ref, vmag_ref)\n",
    "\n",
    "# Generate FDI attack\n",
    "v_att, ang_posi = fdi.gen_fdi_att(v_est, att_spec)\n",
    "\n",
    "fig, (ax1, ax2) = plt.subplots(1,2, figsize=(12,4))\n",
    "ax1.plot(np.angle(v_att), label = 'att ang')\n",
    "ax1.plot(np.angle(v_est), label = 'est ang')\n",
    "ax2.plot(np.abs(v_att), label = 'att ang')\n",
    "ax2.plot(np.abs(v_est), label = 'est ang')\n",
    "ax1.title.set_text('Angle')\n",
    "ax2.title.set_text('Magnitude')"
   ]
  },
  {
   "cell_type": "markdown",
   "metadata": {},
   "source": [
    "Test on the BDD detection result on the FDI attacks. It should give the residual smaller than the BDD threshold."
   ]
  },
  {
   "cell_type": "code",
   "execution_count": null,
   "metadata": {},
   "outputs": [],
   "source": [
    "# Calculate the attacked measurement\n",
    "z_att_est = fdi.h_x_pypower(v_att)\n",
    "z_est = fdi.h_x_pypower(v_est)\n",
    "z_att_noise = z_noise + z_att_est - z_est\n",
    "\n",
    "# Do state estimation\n",
    "v_att_est = fdi.ac_se_pypower(z_att_noise, vang_ref, vmag_ref)\n",
    "\n",
    "\n",
    "# Find the detection residual\n",
    "residual_att = fdi.bdd_residual(z_att_noise, v_att_est)\n",
    "print(f'BDD threshold: {se.bdd_threshold}')\n",
    "print(f'residual: {residual_att}')"
   ]
  },
  {
   "cell_type": "markdown",
   "metadata": {},
   "source": [
    "Test more on the random attack (which may take a while):"
   ]
  },
  {
   "cell_type": "code",
   "execution_count": null,
   "metadata": {},
   "outputs": [],
   "source": [
    "r_summary_att = []\n",
    "for _ in range(1000):\n",
    "    # Generate different noisy measurement\n",
    "    z, z_noise, vang_ref, vmag_ref = se.construct_mea(result)\n",
    "    # Specify the attack type\n",
    "    att_spec = {}\n",
    "    ang_no = np.random.randint(fdi.no_bus-1)\n",
    "    att_spec['ang_posi'] = random.sample(fdi.non_ref_index, ang_no)\n",
    "    att_spec['ang_str'] = -0.5+np.random.rand()        #-0.5-0.4\n",
    "    mag_no = np.random.randint(fdi.no_bus-1)\n",
    "    att_spec['mag_posi'] = random.sample(fdi.non_ref_index, mag_no)\n",
    "    att_spec['mag_str'] = -0.1+0.2*np.random.rand()    # -0.1-0.1\n",
    "    \n",
    "    # Do state estimation\n",
    "    v_est = fdi.ac_se_pypower(z_noise, vang_ref, vmag_ref)\n",
    "    # Generate FDI attack\n",
    "    v_att = fdi.gen_att(v_est, att_spec)\n",
    "    \n",
    "    # Calculate the attacked measurement\n",
    "    z_att_est = fdi.h_x_pypower(v_att)\n",
    "    z_est = fdi.h_x_pypower(v_est)\n",
    "    z_att_noise = z_noise + z_att_est - z_est\n",
    "    # Find the detection residual\n",
    "    residual_att = fdi.bdd_residual(z_att_noise, vang_ref, vmag_ref)\n",
    "    r_summary_att.append(residual_att)\n",
    "\n",
    "tp_no = 0\n",
    "for residual in r_summary_att:\n",
    "    if residual >= se.bdd_threshold:\n",
    "        tp_no += 1\n",
    "\n",
    "tpr = tp_no/len(r_summary_att)\n",
    "print(f'The true positive rate: {tpr}')   # close to fpr = 0.02\n",
    "ax = plt.figure()\n",
    "plt.hist(r_summary_att, cumulative=True, density=True, bins=50)\n",
    "plt.vlines(ymin=0, ymax=1, x=fdi.bdd_threshold, colors='red')\n",
    "plt.xlabel('Residual')\n",
    "plt.ylabel('c.d.f.')\n",
    "plt.title('The cdf of residual distribution on attacks')\n",
    "plt.hlines(xmin=np.min(r_summary_att),xmax=np.max(r_summary_att), y=0.98, colors='red')\n",
    "plt.show()"
   ]
  },
  {
   "cell_type": "markdown",
   "metadata": {},
   "source": [
    "# RTU Measurement Case\n",
    "In this case, only RTU measurements are considered: e.g. no vang from the full measurement case\n",
    "1. \"From\" side active power flow: pf;\n",
    "2. \"To\" side active power flow: pt;\n",
    "3. Active power injection: pi;\n",
    "4. \"From\" side reactive power flow: qf;\n",
    "5. \"To\" side reactive power flow: qt;\n",
    "6. Reactive power injection: qi;\n",
    "7. Voltage magnitude: vmag;"
   ]
  },
  {
   "cell_type": "code",
   "execution_count": null,
   "metadata": {},
   "outputs": [],
   "source": [
    "case = case14()\n",
    "mea_idx, no_mea, noise_sigma = define_mea_idx_noise(case, 'RTU')\n",
    "print(f'mea_idx: \\n{mea_idx}')\n",
    "se = SE(case, noise_sigma=noise_sigma, idx=mea_idx)\n",
    "se.no_mea\n",
    "result = runopf(case, opt)\n",
    "z, z_noise, vang_ref, vmag_ref = se.construct_mea(result) # Get the measurement\n",
    "print(f'measurement shape: \\n{z_noise.shape}')\n",
    "se_config['verbose'] = 1  # Default is 0\n",
    "se.ac_se_pypower(z_noise, vang_ref, vmag_ref, config = se_config)\n"
   ]
  },
  {
   "cell_type": "markdown",
   "metadata": {},
   "source": [
    "# Half RTU Measurement \n",
    "In this case, only from side and injection RTU measurements are considered\n",
    "1. \"From\" side active power flow: pf;\n",
    "2. Active power injection: pi;\n",
    "3. \"From\" side reactive power flow: qf;\n",
    "4. Reactive power injection: qi;"
   ]
  },
  {
   "cell_type": "code",
   "execution_count": null,
   "metadata": {},
   "outputs": [],
   "source": [
    "case = case14()\n",
    "mea_idx, no_mea, noise_sigma = define_mea_idx_noise(case, 'HALF_RTU')\n",
    "print(f'mea_idx: \\n{mea_idx}')\n",
    "se = SE(case, noise_sigma=noise_sigma, idx=mea_idx)\n",
    "se.no_mea\n",
    "result = runopf(case, opt)\n",
    "z, z_noise, vang_ref, vmag_ref = se.construct_mea(result) # Get the measurement\n",
    "print(f'measurement shape: \\n{z_noise.shape}')\n",
    "se_config['verbose'] = 1  # Default is 0\n",
    "se.ac_se_pypower(z_noise, vang_ref, vmag_ref, config = se_config)"
   ]
  },
  {
   "cell_type": "markdown",
   "metadata": {},
   "source": [
    "# A Random case\n",
    "Each measurement type is randomly picked"
   ]
  },
  {
   "cell_type": "code",
   "execution_count": null,
   "metadata": {},
   "outputs": [],
   "source": [
    "case = case14()\n",
    "mea_idx, no_mea, noise_sigma = define_mea_idx_noise(case, 'RANDOM')\n",
    "print(f'mea_idx: \\n{mea_idx}')\n",
    "se = SE(case, noise_sigma=noise_sigma, idx=mea_idx)\n",
    "se.no_mea\n",
    "result = runopf(case, opt)\n",
    "z, z_noise, vang_ref, vmag_ref = se.construct_mea(result) # Get the measurement\n",
    "print(f'measurement shape: \\n{z_noise.shape}')\n",
    "se_config['verbose'] = 1  # Default is 0\n",
    "se.ac_se_pypower(z_noise, vang_ref, vmag_ref, config = se_config)"
   ]
  },
  {
   "cell_type": "markdown",
   "metadata": {},
   "source": [
    "# A Random Case which likely gives unobservability"
   ]
  },
  {
   "cell_type": "code",
   "execution_count": null,
   "metadata": {},
   "outputs": [],
   "source": [
    "case = case14()\n",
    "mea_idx, no_mea, noise_sigma = define_mea_idx_noise(case, 'UNOBSERVABLE')\n",
    "print(f'mea_idx: \\n{mea_idx}')\n",
    "se = SE(case, noise_sigma=noise_sigma, idx=mea_idx)\n",
    "se.no_mea\n",
    "result = runopf(case, opt)\n",
    "z, z_noise, vang_ref, vmag_ref = se.construct_mea(result) # Get the measurement\n",
    "print(f'measurement shape: \\n{z_noise.shape}')\n",
    "se_config['verbose'] = 1  # Default is 0\n",
    "se.ac_se_pypower(z_noise, vang_ref, vmag_ref, config = se_config)"
   ]
  }
 ],
 "metadata": {
  "interpreter": {
   "hash": "00032411723e07db9ac6d7cb17911cb7d71f8517060b707265f9022d176c8680"
  },
  "kernelspec": {
   "display_name": "Python 3.8.0 ('mtd-noise')",
   "language": "python",
   "name": "python3"
  },
  "language_info": {
   "codemirror_mode": {
    "name": "ipython",
    "version": 3
   },
   "file_extension": ".py",
   "mimetype": "text/x-python",
   "name": "python",
   "nbconvert_exporter": "python",
   "pygments_lexer": "ipython3",
   "version": "3.10.0"
  },
  "orig_nbformat": 4
 },
 "nbformat": 4,
 "nbformat_minor": 2
}
